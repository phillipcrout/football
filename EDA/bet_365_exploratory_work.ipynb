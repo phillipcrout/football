{
 "cells": [
  {
   "cell_type": "markdown",
   "metadata": {},
   "source": [
    "Originally published to Kaggle."
   ]
  },
  {
   "cell_type": "code",
   "execution_count": 10,
   "metadata": {
    "_cell_guid": "61ec9a7e-bb2d-45f7-89ac-2fd39dbc56c5",
    "_uuid": "d183a17981a59ff718329cb7af585c79eecec7e5",
    "collapsed": false
   },
   "outputs": [],
   "source": [
    "import numpy as np # linear algebra\n",
    "import pandas as pd # data processing, CSV file I/O (e.g. pd.read_csv)\n",
    "import sqlite3\n",
    "from matplotlib import pyplot as plt\n",
    "%matplotlib inline"
   ]
  },
  {
   "cell_type": "code",
   "execution_count": 2,
   "metadata": {
    "_cell_guid": "6336a10b-b8ee-4c55-9cff-1cc7fc3942b6",
    "_uuid": "c7cc5641351357e13e1409530449153d78925c05",
    "collapsed": true
   },
   "outputs": [],
   "source": [
    "with sqlite3.connect('data/database.sqlite') as con:\n",
    "    countries = pd.read_sql_query(\"SELECT * from Country\", con)\n",
    "    matches = pd.read_sql_query(\"SELECT * from Match\", con)\n",
    "    leagues = pd.read_sql_query(\"SELECT * from League\", con)\n",
    "    teams = pd.read_sql_query(\"SELECT * from Team\", con)"
   ]
  },
  {
   "cell_type": "code",
   "execution_count": 3,
   "metadata": {
    "_cell_guid": "e88b1f93-d345-43e4-9b5e-58a20b4909a3",
    "_uuid": "80a518f90bec84ea3e4897300b0c9027014ae71c",
    "collapsed": true
   },
   "outputs": [],
   "source": [
    "selected_countries = ['England','France','Spain']\n",
    "countries = countries[countries.name.isin(selected_countries)]\n",
    "leagues = countries.merge(leagues,on='id',suffixes=('', '_y'))\n",
    "matches = matches[matches.league_id.isin(leagues.id)]\n",
    "matches = matches[['id','home_team_goal', 'away_team_goal','B365H','B365D','B365A']]\n",
    "# 'stage', 'date','match_api_id', removed columns\n",
    "matches.dropna(inplace=True)"
   ]
  },
  {
   "cell_type": "code",
   "execution_count": 4,
   "metadata": {
    "_cell_guid": "942520cb-fe71-4000-97b6-1eee94e0499f",
    "_uuid": "42838a3d24a6ea61c39582404d1293ff445822f5",
    "collapsed": true
   },
   "outputs": [],
   "source": [
    "### Convert Goals Scored into Results\n",
    "matches['D'] = np.where(matches.home_team_goal == matches.away_team_goal,1,0)\n",
    "matches['HW'] = np.where(matches.home_team_goal > matches.away_team_goal,1,0)\n",
    "matches['AW'] = np.where(matches.home_team_goal < matches.away_team_goal,1,0)\n",
    "del matches['home_team_goal']\n",
    "del matches['away_team_goal']"
   ]
  },
  {
   "cell_type": "code",
   "execution_count": 5,
   "metadata": {
    "_cell_guid": "cc641473-9a2d-4ba9-921e-3490fb79bfff",
    "_uuid": "6cdb727e93cc9ca9dabfb098da9cb055f6f1541b",
    "collapsed": true
   },
   "outputs": [],
   "source": [
    "### Convert odds into implied probability assuming no bias in where the margin lies\n",
    "matches['B365Norm'] = 1/(1/matches.B365H + 1/matches.B365A + 1/matches.B365D)"
   ]
  },
  {
   "cell_type": "code",
   "execution_count": 6,
   "metadata": {
    "_cell_guid": "97ab3939-9c07-4ed2-a2ab-e75a997e52fb",
    "_uuid": "551fac5d5d69746cedde6103a4718c9905142f39",
    "collapsed": false
   },
   "outputs": [
    {
     "data": {
      "text/html": [
       "<div>\n",
       "<table border=\"1\" class=\"dataframe\">\n",
       "  <thead>\n",
       "    <tr style=\"text-align: right;\">\n",
       "      <th></th>\n",
       "      <th>id</th>\n",
       "      <th>B365H</th>\n",
       "      <th>B365D</th>\n",
       "      <th>B365A</th>\n",
       "      <th>D</th>\n",
       "      <th>HW</th>\n",
       "      <th>AW</th>\n",
       "      <th>B365Norm</th>\n",
       "    </tr>\n",
       "  </thead>\n",
       "  <tbody>\n",
       "    <tr>\n",
       "      <th>1728</th>\n",
       "      <td>1729</td>\n",
       "      <td>0.739744</td>\n",
       "      <td>0.173504</td>\n",
       "      <td>0.086752</td>\n",
       "      <td>1</td>\n",
       "      <td>0</td>\n",
       "      <td>0</td>\n",
       "      <td>0.954270</td>\n",
       "    </tr>\n",
       "    <tr>\n",
       "      <th>1729</th>\n",
       "      <td>1730</td>\n",
       "      <td>0.790754</td>\n",
       "      <td>0.145985</td>\n",
       "      <td>0.063260</td>\n",
       "      <td>0</td>\n",
       "      <td>1</td>\n",
       "      <td>0</td>\n",
       "      <td>0.948905</td>\n",
       "    </tr>\n",
       "  </tbody>\n",
       "</table>\n",
       "</div>"
      ],
      "text/plain": [
       "        id     B365H     B365D     B365A  D  HW  AW  B365Norm\n",
       "1728  1729  0.739744  0.173504  0.086752  1   0   0  0.954270\n",
       "1729  1730  0.790754  0.145985  0.063260  0   1   0  0.948905"
      ]
     },
     "execution_count": 6,
     "metadata": {},
     "output_type": "execute_result"
    }
   ],
   "source": [
    "matches['B365H'] = (1/matches.B365H)*matches.B365Norm\n",
    "matches['B365A'] = (1/matches.B365A)*matches.B365Norm\n",
    "matches['B365D'] = (1/matches.B365D)*matches.B365Norm\n",
    "matches.head(n=2) #eyeball that probablities sum to one"
   ]
  },
  {
   "cell_type": "code",
   "execution_count": 11,
   "metadata": {
    "_cell_guid": "6b72141e-1c01-4f30-9b18-9c955d180b7e",
    "_uuid": "295314d79c34e11aeaee20a970f8d104129d0bd9",
    "collapsed": false
   },
   "outputs": [
    {
     "name": "stderr",
     "output_type": "stream",
     "text": [
      "/home/phillip/anaconda3/lib/python3.5/site-packages/ipykernel/__main__.py:5: UserWarning: Boolean Series key will be reindexed to match DataFrame index.\n",
      "/home/phillip/anaconda3/lib/python3.5/site-packages/ipykernel/__main__.py:6: UserWarning: Boolean Series key will be reindexed to match DataFrame index.\n"
     ]
    },
    {
     "data": {
      "text/plain": [
       "<matplotlib.text.Text at 0xa8f4f28c>"
      ]
     },
     "execution_count": 11,
     "metadata": {},
     "output_type": "execute_result"
    },
    {
     "data": {
      "image/png": "[encoded data removed]",
      "text/plain": [
       "<matplotlib.figure.Figure at 0xa8f3acac>"
      ]
     },
     "metadata": {},
     "output_type": "display_data"
    }
   ],
   "source": [
    "percentile = list(np.linspace(0.10,0.95,num=49))\n",
    "m = (percentile[1]-percentile[0])/2\n",
    "estimator = []\n",
    "for Z in [(x,y) for x,y in zip(percentile, percentile[1:])]:\n",
    "    t  = matches[matches.B365H > Z[0]][matches.B365H < Z[1]].shape[0]\n",
    "    tp = matches[matches.B365H > Z[0]][matches.B365H < Z[1]][matches.HW==1].shape[0]\n",
    "    if t > 0: \n",
    "        estimator.append(tp/t)\n",
    "    else:\n",
    "        percentile.remove(Z[0])\n",
    "\n",
    "plt.scatter(percentile[:-1]+m,estimator,marker='x')\n",
    "plt.plot(percentile[:-1]+m,percentile[:-1]+m,color='k')\n",
    "plt.xlabel('Percentile under investigation')\n",
    "plt.ylabel('Occurance Rate')"
   ]
  },
  {
   "cell_type": "code",
   "execution_count": 8,
   "metadata": {
    "_cell_guid": "05b9497c-6e32-4997-acbf-3b9610262f83",
    "_uuid": "f2b1775f6220b7619e3ad65085590104d85da931",
    "collapsed": false
   },
   "outputs": [
    {
     "name": "stdout",
     "output_type": "stream",
     "text": [
      "3.85\n"
     ]
    }
   ],
   "source": [
    "print(round(np.mean(np.abs(np.subtract(estimator,percentile[:-1])-m))*100,2))\n",
    "## how far wrong is the biggest error?"
   ]
  },
  {
   "cell_type": "markdown",
   "metadata": {
    "_cell_guid": "1b84fc65-0542-4476-bc4b-3804fe4d18e3",
    "_uuid": "50b8dbeae3f64fcbca03a9f64e92a29e3dfe6bde"
   },
   "source": []
  },
  {
   "cell_type": "code",
   "execution_count": null,
   "metadata": {
    "collapsed": true
   },
   "outputs": [],
   "source": []
  },
  {
   "cell_type": "code",
   "execution_count": null,
   "metadata": {
    "collapsed": true
   },
   "outputs": [],
   "source": []
  },
  {
   "cell_type": "code",
   "execution_count": null,
   "metadata": {
    "collapsed": true
   },
   "outputs": [],
   "source": []
  }
 ],
 "metadata": {
  "anaconda-cloud": {},
  "kernelspec": {
   "display_name": "Python [Root]",
   "language": "python",
   "name": "Python [Root]"
  },
  "language_info": {
   "codemirror_mode": {
    "name": "ipython",
    "version": 3
   },
   "file_extension": ".py",
   "mimetype": "text/x-python",
   "name": "python",
   "nbconvert_exporter": "python",
   "pygments_lexer": "ipython3",
   "version": "3.5.2"
  }
 },
 "nbformat": 4,
 "nbformat_minor": 1
}
