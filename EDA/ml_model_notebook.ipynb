{
 "cells": [
  {
   "cell_type": "code",
   "execution_count": 2,
   "metadata": {
    "collapsed": true
   },
   "outputs": [],
   "source": [
    "import numpy as np\n",
    "import pandas as pd\n",
    "import sqlite3\n",
    "import warnings\n",
    "from matplotlib import pyplot as plt\n",
    "%matplotlib inline"
   ]
  },
  {
   "cell_type": "code",
   "execution_count": 3,
   "metadata": {
    "collapsed": true
   },
   "outputs": [],
   "source": [
    "#hyper parameters:\n",
    "eta = 1500 ###starting elo\n",
    "kappa = 100 #read in size\n",
    "beta = 400 # +- on your opponents rating"
   ]
  },
  {
   "cell_type": "code",
   "execution_count": 4,
   "metadata": {
    "collapsed": true
   },
   "outputs": [],
   "source": [
    "#load data (make sure you have downloaded database.sqlite)\n",
    "with sqlite3.connect('data/database.sqlite') as con:\n",
    "    countries = pd.read_sql_query(\"SELECT * from Country\", con)\n",
    "    matches = pd.read_sql_query(\"SELECT * from Match\", con)\n",
    "    leagues = pd.read_sql_query(\"SELECT * from League\", con)\n",
    "    teams = pd.read_sql_query(\"SELECT * from Team\", con)"
   ]
  },
  {
   "cell_type": "code",
   "execution_count": 5,
   "metadata": {
    "collapsed": false
   },
   "outputs": [],
   "source": [
    "#get the french league\n",
    "selected_countries = ['France']\n",
    "countries = countries[countries.name.isin(selected_countries)]\n",
    "leagues = countries.merge(leagues,on='id',suffixes=('', '_y'))\n",
    "matches = matches[matches.league_id.isin(leagues.id)]\n",
    "matches = matches[['id','season', 'home_team_api_id', 'away_team_api_id','home_team_goal', 'away_team_goal']]\n",
    "# 'stage', 'date','match_api_id', removed columns\n",
    "matches.dropna(inplace=True)"
   ]
  },
  {
   "cell_type": "code",
   "execution_count": 6,
   "metadata": {
    "collapsed": true
   },
   "outputs": [],
   "source": [
    "matches['D'] = np.where(matches.home_team_goal == matches.away_team_goal,1,0)\n",
    "matches['HW'] = np.where(matches.home_team_goal > matches.away_team_goal,1,0)\n",
    "matches['AW'] = np.where(matches.home_team_goal < matches.away_team_goal,1,0)\n",
    "del matches['home_team_goal']\n",
    "del matches['away_team_goal']"
   ]
  },
  {
   "cell_type": "code",
   "execution_count": 7,
   "metadata": {
    "collapsed": false
   },
   "outputs": [],
   "source": [
    "#create an elo database\n",
    "t1 = matches.home_team_api_id.unique()\n",
    "elo = [eta]*len(t1)\n",
    "elo_df = pd.DataFrame({'team_id':t1, 'elo':elo},index=t1)"
   ]
  },
  {
   "cell_type": "code",
   "execution_count": 8,
   "metadata": {
    "collapsed": false
   },
   "outputs": [
    {
     "data": {
      "text/html": [
       "<div>\n",
       "<table border=\"1\" class=\"dataframe\">\n",
       "  <thead>\n",
       "    <tr style=\"text-align: right;\">\n",
       "      <th></th>\n",
       "      <th>id</th>\n",
       "      <th>season</th>\n",
       "      <th>home_team_api_id</th>\n",
       "      <th>away_team_api_id</th>\n",
       "      <th>D</th>\n",
       "      <th>HW</th>\n",
       "      <th>AW</th>\n",
       "    </tr>\n",
       "  </thead>\n",
       "  <tbody>\n",
       "    <tr>\n",
       "      <th>4768</th>\n",
       "      <td>4769</td>\n",
       "      <td>2008/2009</td>\n",
       "      <td>8583</td>\n",
       "      <td>9830</td>\n",
       "      <td>0</td>\n",
       "      <td>1</td>\n",
       "      <td>0</td>\n",
       "    </tr>\n",
       "    <tr>\n",
       "      <th>4769</th>\n",
       "      <td>4770</td>\n",
       "      <td>2008/2009</td>\n",
       "      <td>9827</td>\n",
       "      <td>7819</td>\n",
       "      <td>0</td>\n",
       "      <td>1</td>\n",
       "      <td>0</td>\n",
       "    </tr>\n",
       "    <tr>\n",
       "      <th>4770</th>\n",
       "      <td>4771</td>\n",
       "      <td>2008/2009</td>\n",
       "      <td>9746</td>\n",
       "      <td>9831</td>\n",
       "      <td>0</td>\n",
       "      <td>1</td>\n",
       "      <td>0</td>\n",
       "    </tr>\n",
       "  </tbody>\n",
       "</table>\n",
       "</div>"
      ],
      "text/plain": [
       "        id     season  home_team_api_id  away_team_api_id  D  HW  AW\n",
       "4768  4769  2008/2009              8583              9830  0   1   0\n",
       "4769  4770  2008/2009              9827              7819  0   1   0\n",
       "4770  4771  2008/2009              9746              9831  0   1   0"
      ]
     },
     "execution_count": 8,
     "metadata": {},
     "output_type": "execute_result"
    }
   ],
   "source": [
    "matches.head(n=3)"
   ]
  },
  {
   "cell_type": "code",
   "execution_count": 9,
   "metadata": {
    "collapsed": false
   },
   "outputs": [],
   "source": [
    "matches = matches.merge(elo_df,how='left',left_on='home_team_api_id',right_on='team_id')\n",
    "del matches['team_id']\n",
    "matches.rename(columns={'elo': 'elo_home'}, inplace=True)\n",
    "matches = matches.merge(elo_df,how='left',left_on='away_team_api_id',right_on='team_id')\n",
    "del matches['team_id']\n",
    "matches.rename(columns={'elo': 'elo_away'}, inplace=True)"
   ]
  },
  {
   "cell_type": "code",
   "execution_count": 10,
   "metadata": {
    "collapsed": true
   },
   "outputs": [],
   "source": [
    "## Read the first kappa records\n",
    "mshort = matches.iloc[:kappa]\n",
    "\n",
    "warnings.filterwarnings('ignore')\n",
    "####"
   ]
  },
  {
   "cell_type": "code",
   "execution_count": 11,
   "metadata": {
    "collapsed": false
   },
   "outputs": [],
   "source": [
    "mshort['elo_home_change'] = np.where(mshort.HW == 1, mshort.elo_away+beta,mshort.elo_away-beta)\n",
    "mshort['elo_away_change'] = np.where(mshort.AW == 1, mshort.elo_home+beta,mshort.elo_home-beta)\n",
    "mshort['elo_home_change'][mshort.D==1] = mshort.elo_away\n",
    "mshort['elo_away_change'][mshort.D==1] = mshort.elo_home"
   ]
  },
  {
   "cell_type": "code",
   "execution_count": 12,
   "metadata": {
    "collapsed": true
   },
   "outputs": [],
   "source": [
    "def elo_updator(team_id):\n",
    "    elo_change = np.sum(mshort.elo_home_change[mshort.home_team_api_id==team_id])+np.sum(mshort.elo_away_change[mshort.away_team_api_id==team_id])\n",
    "    count = np.sum(mshort.home_team_api_id==team_id)+np.sum(mshort.away_team_api_id==team_id)\n",
    "    updated_value = elo_change/count\n",
    "    try:\n",
    "        elo_df.set_value(team_id,'elo',updated_value)\n",
    "    except ValueError:\n",
    "        ## if a team_id does not appear in this subset it has a non_changing elo\n",
    "        pass"
   ]
  },
  {
   "cell_type": "code",
   "execution_count": 16,
   "metadata": {
    "collapsed": false
   },
   "outputs": [
    {
     "data": {
      "text/html": [
       "<div>\n",
       "<table border=\"1\" class=\"dataframe\">\n",
       "  <thead>\n",
       "    <tr style=\"text-align: right;\">\n",
       "      <th></th>\n",
       "      <th>id</th>\n",
       "      <th>season</th>\n",
       "      <th>home_team_api_id</th>\n",
       "      <th>away_team_api_id</th>\n",
       "      <th>D</th>\n",
       "      <th>HW</th>\n",
       "      <th>AW</th>\n",
       "      <th>elo_home</th>\n",
       "      <th>elo_away</th>\n",
       "    </tr>\n",
       "  </thead>\n",
       "  <tbody>\n",
       "    <tr>\n",
       "      <th>0</th>\n",
       "      <td>4769</td>\n",
       "      <td>2008/2009</td>\n",
       "      <td>8583</td>\n",
       "      <td>9830</td>\n",
       "      <td>0</td>\n",
       "      <td>1</td>\n",
       "      <td>0</td>\n",
       "      <td>1500</td>\n",
       "      <td>1500</td>\n",
       "    </tr>\n",
       "    <tr>\n",
       "      <th>1</th>\n",
       "      <td>4770</td>\n",
       "      <td>2008/2009</td>\n",
       "      <td>9827</td>\n",
       "      <td>7819</td>\n",
       "      <td>0</td>\n",
       "      <td>1</td>\n",
       "      <td>0</td>\n",
       "      <td>1500</td>\n",
       "      <td>1500</td>\n",
       "    </tr>\n",
       "    <tr>\n",
       "      <th>2</th>\n",
       "      <td>4771</td>\n",
       "      <td>2008/2009</td>\n",
       "      <td>9746</td>\n",
       "      <td>9831</td>\n",
       "      <td>0</td>\n",
       "      <td>1</td>\n",
       "      <td>0</td>\n",
       "      <td>1500</td>\n",
       "      <td>1500</td>\n",
       "    </tr>\n",
       "    <tr>\n",
       "      <th>3</th>\n",
       "      <td>4772</td>\n",
       "      <td>2008/2009</td>\n",
       "      <td>8682</td>\n",
       "      <td>8689</td>\n",
       "      <td>0</td>\n",
       "      <td>0</td>\n",
       "      <td>1</td>\n",
       "      <td>1500</td>\n",
       "      <td>1500</td>\n",
       "    </tr>\n",
       "    <tr>\n",
       "      <th>4</th>\n",
       "      <td>4773</td>\n",
       "      <td>2008/2009</td>\n",
       "      <td>9748</td>\n",
       "      <td>9941</td>\n",
       "      <td>0</td>\n",
       "      <td>1</td>\n",
       "      <td>0</td>\n",
       "      <td>1500</td>\n",
       "      <td>1500</td>\n",
       "    </tr>\n",
       "  </tbody>\n",
       "</table>\n",
       "</div>"
      ],
      "text/plain": [
       "     id     season  home_team_api_id  away_team_api_id  D  HW  AW  elo_home  \\\n",
       "0  4769  2008/2009              8583              9830  0   1   0      1500   \n",
       "1  4770  2008/2009              9827              7819  0   1   0      1500   \n",
       "2  4771  2008/2009              9746              9831  0   1   0      1500   \n",
       "3  4772  2008/2009              8682              8689  0   0   1      1500   \n",
       "4  4773  2008/2009              9748              9941  0   1   0      1500   \n",
       "\n",
       "   elo_away  \n",
       "0      1500  \n",
       "1      1500  \n",
       "2      1500  \n",
       "3      1500  \n",
       "4      1500  "
      ]
     },
     "execution_count": 16,
     "metadata": {},
     "output_type": "execute_result"
    }
   ],
   "source": [
    "for x in matches.home_team_api_id.unique():\n",
    "    elo_updator(x)"
   ]
  },
  {
   "cell_type": "code",
   "execution_count": 20,
   "metadata": {
    "collapsed": false
   },
   "outputs": [],
   "source": [
    "for x in matches.home_team_api_id.unique():\n",
    "    matches.elo_home.iloc[kappa:2*kappa][matches.home_team_api_id==x] = elo_df.loc[x].elo\n",
    "    matches.elo_away.iloc[kappa:2*kappa][matches.away_team_api_id==x] = elo_df.loc[x].elo"
   ]
  },
  {
   "cell_type": "code",
   "execution_count": 27,
   "metadata": {
    "collapsed": false
   },
   "outputs": [
    {
     "data": {
      "text/plain": [
       "(array([  2.,   0.,   3.,   1.,   3.,  19.,   3.,   2.,   1.,   1.]),\n",
       " array([ 1260.,  1308.,  1356.,  1404.,  1452.,  1500.,  1548.,  1596.,\n",
       "         1644.,  1692.,  1740.]),\n",
       " <a list of 10 Patch objects>)"
      ]
     },
     "execution_count": 27,
     "metadata": {},
     "output_type": "execute_result"
    },
    {
     "data": {
      "image/png": "[encoded data removed]",
      "text/plain": [
       "<matplotlib.figure.Figure at 0xa9c4b16c>"
      ]
     },
     "metadata": {},
     "output_type": "display_data"
    }
   ],
   "source": [
    "plt.hist(elo_df.elo)"
   ]
  },
  {
   "cell_type": "code",
   "execution_count": null,
   "metadata": {
    "collapsed": true
   },
   "outputs": [],
   "source": []
  }
 ],
 "metadata": {
  "anaconda-cloud": {},
  "kernelspec": {
   "display_name": "Python [Root]",
   "language": "python",
   "name": "Python [Root]"
  },
  "language_info": {
   "codemirror_mode": {
    "name": "ipython",
    "version": 3
   },
   "file_extension": ".py",
   "mimetype": "text/x-python",
   "name": "python",
   "nbconvert_exporter": "python",
   "pygments_lexer": "ipython3",
   "version": "3.5.2"
  }
 },
 "nbformat": 4,
 "nbformat_minor": 0
}
